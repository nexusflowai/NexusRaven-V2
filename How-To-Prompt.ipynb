{
  "nbformat": 4,
  "nbformat_minor": 0,
  "metadata": {
    "colab": {
      "provenance": [],
      "collapsed_sections": [
        "wom9c2gDPS1i",
        "ZR_pt8o7SGxp",
        "r2g172hXUMm0",
        "PZ2qbV1rXQQ8",
        "iGCmDoQB7OTN",
        "5DJuUO0jBgkL",
        "GciQ_zWl7VpH"
      ]
    },
    "kernelspec": {
      "name": "python3",
      "display_name": "Python 3"
    },
    "language_info": {
      "name": "python"
    }
  },
  "cells": [
    {
      "cell_type": "markdown",
      "source": [
        "## Welcome to RavenV2!\n",
        "\n",
        "This section introduces function calling and Raven!"
      ],
      "metadata": {
        "id": "wom9c2gDPS1i"
      }
    },
    {
      "cell_type": "markdown",
      "source": [
        "### Introduction\n",
        "This document serves to walk you through prompting RavenV2, a fully open source function calling model."
      ],
      "metadata": {
        "id": "JILmZ0tPPXvn"
      }
    },
    {
      "cell_type": "markdown",
      "source": [
        "#### What is Function Calling?"
      ],
      "metadata": {
        "id": "MBRzPwy4PxPS"
      }
    },
    {
      "cell_type": "markdown",
      "source": [
        "Function calling, as part of tool use by a large language model (LLM), refers to the process where the LLM identifies and executes predefined functions with relevant arguments. This is a key aspect of how the LLM utilizes its integrated tools to effectively respond to queries presented by users.\n",
        "\n",
        "For example, if the input to a function calling model is a function to get the weather (for example, `getWeather(city_name : str)`) and a user query asking about the weather in Seattle, the LLM's generation should be something like `getWeather(\"Seattle\")`.\n",
        "\n",
        "Of course, there can be many more complex incarnations of this, but this is a simple example of what Function Calling is."
      ],
      "metadata": {
        "id": "-CAMG8lBQ8cQ"
      }
    },
    {
      "cell_type": "markdown",
      "source": [
        "#### Why is Function Calling Important?"
      ],
      "metadata": {
        "id": "I6G3V8eNQSjz"
      }
    },
    {
      "cell_type": "markdown",
      "source": [
        "Function calling is a crucial aspect of utilizing large language models (LLMs) because it significantly enhances their usefulness. By enabling function calling, LLMs can interact with a range of user-provided tools, extending beyond their native text processing abilities. This allows them to perform specialized tasks like API interfacing, data analysis, image generation, or web browsing, directly in response to user queries. Such a feature empowers LLMs to provide more accurate, detailed, and contextually relevant information. This not only improves the user experience but also broadens the scope of questions that can be addressed by the LLM, making it a helpful tool for a diverse array of applications. Function calling essentially transforms an LLM from a sophisticated text generator into a reasoning engine, capable of handling a variety of complex tasks seamlessly."
      ],
      "metadata": {
        "id": "iKEGJFKWQ6iM"
      }
    },
    {
      "cell_type": "markdown",
      "source": [
        "### Why Raven?"
      ],
      "metadata": {
        "id": "cVlr7VzoupqB"
      }
    },
    {
      "cell_type": "markdown",
      "source": [
        "Not only is Raven good at Function Calling, but it also provides reasoning on why it issued those function calls, to justify the calls it has issued.\n",
        "\n",
        "This includes connecting the arguments it has filled in the function call back to the user's prompt, making the generation more interpretable.\n",
        "\n",
        "Please see the examples below!"
      ],
      "metadata": {
        "id": "zBMHjiuVusG4"
      }
    },
    {
      "cell_type": "markdown",
      "source": [
        "## Prompting RavenV2 -- Weather API Example\n",
        "\n",
        "Let's use a few API functions to show the purpose (and power) of function calling!"
      ],
      "metadata": {
        "id": "0V3AuFLPSCCV"
      }
    },
    {
      "cell_type": "markdown",
      "source": [
        "### Defining Functions"
      ],
      "metadata": {
        "id": "ZR_pt8o7SGxp"
      }
    },
    {
      "cell_type": "markdown",
      "source": [
        "Let's define some helpful functions for RavenV2. In this cell, we will define two functions -- a function to get a weather in a Latitude and Longitude, and a function to convert human-readable city names to the coordinates."
      ],
      "metadata": {
        "id": "PI5KyXiuSJnZ"
      }
    },
    {
      "cell_type": "code",
      "source": [
        "import requests\n",
        "def get_weather_data(coordinates):\n",
        "    \"\"\"\n",
        "    Fetches weather data from the Open-Meteo API for the given latitude and longitude.\n",
        "\n",
        "    Args:\n",
        "    coordinates (tuple): The latitude of the location.\n",
        "\n",
        "    Returns:\n",
        "    float: The current temperature in the coordinates you've asked for\n",
        "    \"\"\"\n",
        "    latitude, longitude = coordinates\n",
        "    base_url = \"https://api.open-meteo.com/v1/forecast\"\n",
        "    params = {\n",
        "        \"latitude\": latitude,\n",
        "        \"longitude\": longitude,\n",
        "        \"current\": \"temperature_2m,wind_speed_10m\",\n",
        "        \"hourly\": \"temperature_2m,relative_humidity_2m,wind_speed_10m\"\n",
        "    }\n",
        "\n",
        "    response = requests.get(base_url, params=params)\n",
        "    if response.status_code == 200:\n",
        "        print (f\"\"\"Temperature in C: {response.json()[\"current\"][\"temperature_2m\"]}\"\"\")\n",
        "    else:\n",
        "        return {\"error\": \"Failed to fetch data, status code: {}\".format(response.status_code)}\n"
      ],
      "metadata": {
        "id": "JPHj-AWCSVeP"
      },
      "execution_count": null,
      "outputs": []
    },
    {
      "cell_type": "markdown",
      "source": [
        "You'll notice that this API requires latitude and longitude, which is a bit hard for users to provide (or for LLMs to know). Let's add a new function that allows easy conversion."
      ],
      "metadata": {
        "id": "2fcXnzwWS1jG"
      }
    },
    {
      "cell_type": "code",
      "source": [
        "def get_coordinates_from_city(city_name):\n",
        "    \"\"\"\n",
        "    Fetches the latitude and longitude of a given city name using the Maps.co Geocoding API.\n",
        "\n",
        "    Args:\n",
        "    city_name (str): The name of the city.\n",
        "\n",
        "    Returns:\n",
        "    tuple: The latitude and longitude of the city.\n",
        "    \"\"\"\n",
        "    base_url = \"https://geocode.maps.co/search\"\n",
        "    params = {\"q\": city_name}\n",
        "\n",
        "    response = requests.get(base_url, params=params)\n",
        "    if response.status_code == 200:\n",
        "        data = response.json()\n",
        "        if data:\n",
        "            # Assuming the first result is the most relevant\n",
        "            return data[0][\"lat\"], data[0][\"lon\"]\n",
        "        else:\n",
        "            return {\"error\": \"No data found for the given city name.\"}\n",
        "    else:\n",
        "        return {\"error\": \"Failed to fetch data, status code: {}\".format(response.status_code)}\n"
      ],
      "metadata": {
        "id": "iBg9Za8fSDlq"
      },
      "execution_count": null,
      "outputs": []
    },
    {
      "cell_type": "markdown",
      "source": [
        "### Asking Raven"
      ],
      "metadata": {
        "id": "r2g172hXUMm0"
      }
    },
    {
      "cell_type": "markdown",
      "source": [
        "Great! Now, let's ask Raven to use these tools to answer user questions.\n",
        "\n",
        "First, let's provide the functions to the model.\n",
        "\n",
        "Please note that the way you provide this is by providing the \"Function:\" header, the function prototype, and the associated docstring as seen below."
      ],
      "metadata": {
        "id": "y5pKNLKuUUcm"
      }
    },
    {
      "cell_type": "code",
      "source": [
        "RAVEN_PROMPT = \\\n",
        "'''\n",
        "Function:\n",
        "def get_weather_data(coordinates):\n",
        "    \"\"\"\n",
        "    Fetches weather data from the Open-Meteo API for the given latitude and longitude.\n",
        "\n",
        "    Args:\n",
        "    coordinates (tuple): The latitude of the location.\n",
        "\n",
        "    Returns:\n",
        "    float: The current temperature in the coordinates you've asked for\n",
        "    \"\"\"\n",
        "\n",
        "Function:\n",
        "def get_coordinates_from_city(city_name):\n",
        "    \"\"\"\n",
        "    Fetches the latitude and longitude of a given city name using the Maps.co Geocoding API.\n",
        "\n",
        "    Args:\n",
        "    city_name (str): The name of the city.\n",
        "\n",
        "    Returns:\n",
        "    tuple: The latitude and longitude of the city.\n",
        "    \"\"\"\n",
        "\n",
        "User Query: {query}<human_end>\n",
        "'''"
      ],
      "metadata": {
        "id": "ocbkxsdPTUFC"
      },
      "execution_count": null,
      "outputs": []
    },
    {
      "cell_type": "markdown",
      "source": [
        "Let's provide Raven a question!"
      ],
      "metadata": {
        "id": "GcA5vqrmV8Jx"
      }
    },
    {
      "cell_type": "code",
      "source": [
        "QUESTION = \"Whats's the weather like in Seattle right now?\""
      ],
      "metadata": {
        "id": "ydDTUJfXTf69"
      },
      "execution_count": null,
      "outputs": []
    },
    {
      "cell_type": "markdown",
      "source": [
        "Now, let's prompt Raven!"
      ],
      "metadata": {
        "id": "CdHTz9J-V5Hp"
      }
    },
    {
      "cell_type": "code",
      "source": [
        "# Now, let's prompt Raven!\n",
        "API_URL = \"https://yxp16e8zx3wv3jn2.us-east-1.aws.endpoints.huggingface.cloud\"\n",
        "headers = {\n",
        "        \"Authorization\": \"Bearer XXXXXX\",\n",
        "        \"Content-Type\": \"application/json\"\n",
        "}\n",
        "def query(payload):\n",
        "\t\"\"\"\n",
        "\tSends a payload to a TGI endpoint.\n",
        "\t\"\"\"\n",
        "\timport requests\n",
        "\tresponse = requests.post(API_URL, headers=headers, json=payload)\n",
        "\treturn response.json()\n",
        "\n",
        "def query_raven(prompt):\n",
        "\t\"\"\"\n",
        "\tThis function sends a request to the TGI endpoint to get Raven's function call.\n",
        "\tThis will not generate Raven's justification and reasoning for the call, to save on latency.\n",
        "\t\"\"\"\n",
        "\timport requests\n",
        "\toutput = query({\n",
        "\t\t\"inputs\": prompt,\n",
        "\t\t\"parameters\" : {\"temperature\" : 0.001, \"stop\" : [\"<bot_end>\"], \"do_sample\" : False, \"max_new_tokens\" : 2000}})\n",
        "\tcall = output[0][\"generated_text\"].replace(\"Call:\", \"\").strip()\n",
        "\treturn call\n",
        "\n",
        "def query_raven_with_reasoning(prompt):\n",
        "\t\"\"\"\n",
        "\tThis function sends a request to the TGI endpoint to get Raven's function call AND justification for the call\n",
        "\t\"\"\"\n",
        "\timport requests\n",
        "\toutput = query({\n",
        "\t\t\"inputs\": prompt,\n",
        "\t\t\"parameters\" : {\"temperature\" : 0.001, \"do_sample\" : False, \"max_new_tokens\" : 2000}})\n",
        "\tcall = output[0][\"generated_text\"].replace(\"Call:\", \"\").strip()\n",
        "\treturn call"
      ],
      "metadata": {
        "id": "hWPinutTVHBg"
      },
      "execution_count": null,
      "outputs": []
    },
    {
      "cell_type": "markdown",
      "source": [
        "In this cell, we can see Raven use the tools provided to it to give the User's query an answer."
      ],
      "metadata": {
        "id": "WU7lNbEVG9jC"
      }
    },
    {
      "cell_type": "code",
      "source": [
        "my_question = RAVEN_PROMPT.format(query = QUESTION)\n",
        "raven_call = query_raven(my_question)\n",
        "print (f\"Raven's Call: {raven_call}\")"
      ],
      "metadata": {
        "colab": {
          "base_uri": "https://localhost:8080/"
        },
        "id": "1nNya3QoVv9C",
        "outputId": "10ecbce8-6b9a-445e-ef0b-213359758d3c"
      },
      "execution_count": null,
      "outputs": [
        {
          "output_type": "stream",
          "name": "stdout",
          "text": [
            "Raven's Call: get_weather_data(coordinates=get_coordinates_from_city(city_name='Seattle'))\n"
          ]
        }
      ]
    },
    {
      "cell_type": "markdown",
      "source": [
        "Great! Now, let's execute the call to actually use the APIs!"
      ],
      "metadata": {
        "id": "5MGHzw4cW-Re"
      }
    },
    {
      "cell_type": "code",
      "source": [
        "exec(raven_call)"
      ],
      "metadata": {
        "colab": {
          "base_uri": "https://localhost:8080/"
        },
        "id": "hVuTOpMSWFgO",
        "outputId": "52acae25-085c-449c-ffba-9d12d29d31c4"
      },
      "execution_count": null,
      "outputs": [
        {
          "output_type": "stream",
          "name": "stdout",
          "text": [
            "Temperature in C: 5.8\n"
          ]
        }
      ]
    },
    {
      "cell_type": "markdown",
      "source": [
        "Awesome!! Seems it works :)"
      ],
      "metadata": {
        "id": "LPGa2Q8mXMvJ"
      }
    },
    {
      "cell_type": "markdown",
      "source": [
        "Raven can also continue the generation, allowing us to get a justification for the generated call."
      ],
      "metadata": {
        "id": "RD5F0p55tnoe"
      }
    },
    {
      "cell_type": "code",
      "source": [
        "my_question = RAVEN_PROMPT.format(query = QUESTION)\n",
        "raven_call = query_raven_with_reasoning(my_question)\n",
        "print (f\"Raven's Call: {raven_call}\")"
      ],
      "metadata": {
        "colab": {
          "base_uri": "https://localhost:8080/"
        },
        "id": "I4WH2ywFtsjC",
        "outputId": "a78acafd-68c3-45bd-cfc7-4c215ec29904"
      },
      "execution_count": null,
      "outputs": [
        {
          "output_type": "stream",
          "name": "stdout",
          "text": [
            "Raven's Call: get_weather_data(coordinates=get_coordinates_from_city(city_name='Seattle')) \n",
            "Thought: The function call `get_weather_data(coordinates=get_coordinates_from_city(city_name='Seattle'))` answers the question \"What's the weather like in Seattle right now?\" by following these steps:\n",
            "\n",
            "1. `get_coordinates_from_city(city_name='Seattle')`: This function call fetches the latitude and longitude of the city \"Seattle\" using the Maps.co Geocoding API.\n",
            "2. `get_weather_data(coordinates=...)`: This function call fetches the current weather data for the coordinates returned by the previous function call.\n",
            "\n",
            "Therefore, the function call `get_weather_data(coordinates=get_coordinates_from_city(city_name='Seattle'))` answers the question \"What's the weather like in Seattle right now?\" by first fetching the coordinates of the city \"Seattle\" and then fetching the current weather data for those coordinates.\n"
          ]
        }
      ]
    },
    {
      "cell_type": "markdown",
      "source": [
        "## Try Your Own!!\n",
        "\n",
        "Please feel free to edit the functions provided in this prompt with your own, and give it a try!"
      ],
      "metadata": {
        "id": "PZ2qbV1rXQQ8"
      }
    },
    {
      "cell_type": "markdown",
      "source": [
        "### Endpoint\n",
        "First, let's define the endpoint specifics (including the URL to query Raven). Please do not change these, as these are more of utilities that you can use to send prompts to Raven and receive Raven's completions."
      ],
      "metadata": {
        "id": "pbEHdSZdGXqN"
      }
    },
    {
      "cell_type": "code",
      "source": [
        "API_URL = \"https://yxp16e8zx3wv3jn2.us-east-1.aws.endpoints.huggingface.cloud\"\n",
        "headers = {\n",
        "        \"Authorization\": \"Bearer XXXXXXXX\",\n",
        "        \"Content-Type\": \"application/json\"\n",
        "}\n",
        "def query(payload):\n",
        "\t\"\"\"\n",
        "\tSends a payload to a TGI endpoint.\n",
        "\t\"\"\"\n",
        "\timport requests\n",
        "\tresponse = requests.post(API_URL, headers=headers, json=payload)\n",
        "\treturn response.json()\n",
        "\n",
        "def query_raven(prompt):\n",
        "\t\"\"\"\n",
        "\tThis function sends a request to the TGI endpoint to get Raven's function call.\n",
        "\tThis will not generate Raven's justification and reasoning for the call, to save on latency.\n",
        "\t\"\"\"\n",
        "\timport requests\n",
        "\toutput = query({\n",
        "\t\t\"inputs\": prompt,\n",
        "\t\t\"parameters\" : {\"temperature\" : 0.001, \"stop\" : [\"<bot_end>\"], \"do_sample\" : False, \"max_new_tokens\" : 2000}})\n",
        "\tcall = output[0][\"generated_text\"].replace(\"Call:\", \"\").strip()\n",
        "\treturn call\n",
        "\n",
        "def query_raven_with_reasoning(prompt):\n",
        "\t\"\"\"\n",
        "\tThis function sends a request to the TGI endpoint to get Raven's function call AND justification for the call\n",
        "\t\"\"\"\n",
        "\timport requests\n",
        "\toutput = query({\n",
        "\t\t\"inputs\": prompt,\n",
        "\t\t\"parameters\" : {\"temperature\" : 0.001, \"do_sample\" : False, \"max_new_tokens\" : 2000}})\n",
        "\tcall = output[0][\"generated_text\"].replace(\"Call:\", \"\").strip()\n",
        "\treturn call"
      ],
      "metadata": {
        "id": "QmPhxPrVX2T3"
      },
      "execution_count": null,
      "outputs": []
    },
    {
      "cell_type": "markdown",
      "source": [
        "### Now, Let's Run Your Functions!\n",
        "\n",
        "Let's provide your functions to Raven and generate a call!\n",
        "\n",
        "In this cell, please feel free to edit the functions, the doc strings, and the arguments as you see fit! You're also welcome to edit the user query/question!"
      ],
      "metadata": {
        "id": "_ac50WRKGXCf"
      }
    },
    {
      "cell_type": "code",
      "source": [
        "RAVEN_PROMPT = \\\n",
        "'''\n",
        "Function:\n",
        "def get_weather_data(coordinates):\n",
        "    \"\"\"\n",
        "    Fetches weather data from the Open-Meteo API for the given latitude and longitude.\n",
        "\n",
        "    Args:\n",
        "    coordinates (tuple): The latitude of the location.\n",
        "\n",
        "    Returns:\n",
        "    float: The current temperature in the coordinates you've asked for\n",
        "    \"\"\"\n",
        "\n",
        "Function:\n",
        "def get_coordinates_from_city(city_name):\n",
        "    \"\"\"\n",
        "    Fetches the latitude and longitude of a given city name using the Maps.co Geocoding API.\n",
        "\n",
        "    Args:\n",
        "    city_name (str): The name of the city.\n",
        "\n",
        "    Returns:\n",
        "    tuple: The latitude and longitude of the city.\n",
        "    \"\"\"\n",
        "\n",
        "User Query: {query}<human_end>\n",
        "'''\n",
        "\n",
        "QUESTION = \"Whats's the weather like in Seattle right now?\"\n",
        "my_question = RAVEN_PROMPT.format(query = QUESTION)"
      ],
      "metadata": {
        "id": "kYvz-L9YXTxv"
      },
      "execution_count": null,
      "outputs": []
    },
    {
      "cell_type": "markdown",
      "source": [
        "Now that we've constructed the question and the list of tools/functions, let's send it over to Raven!"
      ],
      "metadata": {
        "id": "XHA6xwUbIaTw"
      }
    },
    {
      "cell_type": "code",
      "source": [
        "raven_call = query_raven(my_question)\n",
        "print (f\"Raven's Call: {raven_call}\")\n",
        "\n",
        "raven_call = query_raven_with_reasoning(my_question)\n",
        "print (f\"Raven's Reasoning: {raven_call}\")"
      ],
      "metadata": {
        "colab": {
          "base_uri": "https://localhost:8080/"
        },
        "id": "jbIPOXUBIW8G",
        "outputId": "7e456eb9-ec27-48bf-a724-f4857294e9f6"
      },
      "execution_count": null,
      "outputs": [
        {
          "output_type": "stream",
          "name": "stdout",
          "text": [
            "Raven's Call: get_weather_data(coordinates=get_coordinates_from_city(city_name='Seattle'))\n",
            "Raven's Reasoning: get_weather_data(coordinates=get_coordinates_from_city(city_name='Seattle')) \n",
            "Thought: The function call `get_weather_data(coordinates=get_coordinates_from_city(city_name='Seattle'))` answers the question \"What's the weather like in Seattle right now?\" by following these steps:\n",
            "\n",
            "1. `get_coordinates_from_city(city_name='Seattle')`: This function call fetches the latitude and longitude of the city \"Seattle\" using the Maps.co Geocoding API.\n",
            "2. `get_weather_data(coordinates=...)`: This function call fetches the current weather data for the coordinates returned by the previous function call.\n",
            "\n",
            "Therefore, the function call `get_weather_data(coordinates=get_coordinates_from_city(city_name='Seattle'))` answers the question \"What's the weather like in Seattle right now?\" by first fetching the coordinates of the city \"Seattle\" and then fetching the current weather data for those coordinates.\n"
          ]
        }
      ]
    },
    {
      "cell_type": "markdown",
      "source": [
        "## Advanced Prompting Guide\n",
        "\n",
        "More advanced prompting strategies!"
      ],
      "metadata": {
        "id": "iGCmDoQB7OTN"
      }
    },
    {
      "cell_type": "markdown",
      "source": [
        "### Define the Endpoint For Raven\n",
        "\n",
        "Please run these cells to get access to the endpoint!"
      ],
      "metadata": {
        "id": "yvSxxClK8Xtw"
      }
    },
    {
      "cell_type": "code",
      "source": [
        "### Let's Define the Endpoint for Raven!\n",
        "API_URL = \"https://yxp16e8zx3wv3jn2.us-east-1.aws.endpoints.huggingface.cloud\"\n",
        "headers = {\n",
        "        \"Authorization\": \"Bearer XXXXXXXXX\",\n",
        "        \"Content-Type\": \"application/json\"\n",
        "}\n",
        "def query(payload):\n",
        "\t\"\"\"\n",
        "\tSends a payload to a TGI endpoint.\n",
        "\t\"\"\"\n",
        "\timport requests\n",
        "\tresponse = requests.post(API_URL, headers=headers, json=payload)\n",
        "\treturn response.json()\n",
        "\n",
        "def query_raven(prompt):\n",
        "\t\"\"\"\n",
        "\tThis function sends a request to the TGI endpoint to get Raven's function call.\n",
        "\tThis will not generate Raven's justification and reasoning for the call, to save on latency.\n",
        "\t\"\"\"\n",
        "\timport requests\n",
        "\toutput = query({\n",
        "\t\t\"inputs\": prompt,\n",
        "\t\t\"parameters\" : {\"temperature\" : 0.001, \"stop\" : [\"<bot_end>\"], \"do_sample\" : False, \"max_new_tokens\" : 2000}})\n",
        "\tcall = output[0][\"generated_text\"].replace(\"Call:\", \"\").strip()\n",
        "\treturn call\n",
        "\n",
        "def query_raven_with_reasoning(prompt):\n",
        "\t\"\"\"\n",
        "\tThis function sends a request to the TGI endpoint to get Raven's function call AND justification for the call\n",
        "\t\"\"\"\n",
        "\timport requests\n",
        "\toutput = query({\n",
        "\t\t\"inputs\": prompt,\n",
        "\t\t\"parameters\" : {\"temperature\" : 0.001, \"do_sample\" : False, \"max_new_tokens\" : 2000}})\n",
        "\tcall = output[0][\"generated_text\"].replace(\"Call:\", \"\").strip()\n",
        "\treturn call\n"
      ],
      "metadata": {
        "id": "vGSBt8gM8Ukt"
      },
      "execution_count": null,
      "outputs": []
    },
    {
      "cell_type": "markdown",
      "source": [
        "### Parallel Calls\n",
        "Raven is also capable of issuing Parallel Calls! Let's see a graph example!"
      ],
      "metadata": {
        "id": "5DJuUO0jBgkL"
      }
    },
    {
      "cell_type": "code",
      "source": [
        "RAVEN_PROMPT = \\\n",
        "'''\n",
        "Function:\n",
        "def add_edge(u, v):\n",
        "    \"\"\"\n",
        "    Adds an edge between node u and node v in the graph. Make sure to create a graph first by calling create_new_graph!\n",
        "\n",
        "    Args:\n",
        "      u (str): Node name as string\n",
        "      v (str): Node name as string\n",
        "    \"\"\"\n",
        "\n",
        "Function:\n",
        "def is_two_nodes_connected(u, v):\n",
        "    \"\"\"\n",
        "    Answers if two nodes are connected.\n",
        "    \"\"\"\n",
        "\n",
        "User Query: Emma is friends with Bob and Charlie, and Charlie is friends with Erik, and Erik is friends with Brian. Can you represent all of these relationship as a graph and answer if Emma is friends with Erik?<human_end>\n",
        "'''\n",
        "print (query_raven_with_reasoning(RAVEN_PROMPT))\n"
      ],
      "metadata": {
        "colab": {
          "base_uri": "https://localhost:8080/"
        },
        "id": "5WedMxGrBg7S",
        "outputId": "19a0c28f-89ca-458a-9d7b-a782e68c645d"
      },
      "execution_count": null,
      "outputs": [
        {
          "output_type": "stream",
          "name": "stdout",
          "text": [
            "add_edge(u='Emma', v='Bob'); add_edge(u='Emma', v='Charlie'); add_edge(u='Charlie', v='Erik'); add_edge(u='Erik', v='Brian'); is_two_nodes_connected(u='Emma', v='Erik'); \n",
            "Thought: The set of Python calls provided will directly answer the question because they perform the following operations:\n",
            "\n",
            "1. `add_edge(u='Emma', v='Bob')`: This call adds an edge between the nodes \"Emma\" and \"Bob\" in the graph.\n",
            "2. `add_edge(u='Emma', v='Charlie')`: This call adds an edge between the nodes \"Emma\" and \"Charlie\" in the graph.\n",
            "3. `add_edge(u='Charlie', v='Erik')`: This call adds an edge between the nodes \"Charlie\" and \"Erik\" in the graph.\n",
            "4. `add_edge(u='Erik', v='Brian')`: This call adds an edge between the nodes \"Erik\" and \"Brian\" in the graph.\n",
            "5. `is_two_nodes_connected(u='Emma', v='Erik')`: This call checks if the nodes \"Emma\" and \"Erik\" are connected in the graph.\n",
            "\n",
            "The `add_edge` calls will create the necessary edges in the graph to represent the relationships between the nodes. The `is_two_nodes_connected` call will check if the nodes \"Emma\" and \"Erik\" are connected, which will answer the question of whether Emma is friends with Erik.\n"
          ]
        }
      ]
    },
    {
      "cell_type": "markdown",
      "source": [
        "### Optional Arguments\n",
        "\n",
        "Raven is also capable of handling optional arguments. You can provide it as follows:"
      ],
      "metadata": {
        "id": "GciQ_zWl7VpH"
      }
    },
    {
      "cell_type": "code",
      "source": [
        "RAVEN_PROMPT = \\\n",
        "'''\n",
        "Function:\n",
        "def getWeather(city_name : str, use_celsius : bool = False):\n",
        "\"\"\"\n",
        "Gets weather for a specific city, and other associated attributes.\n",
        "\n",
        "Args:\n",
        "- city_name: The name of the city as a string.\n",
        "- use_celsius (Optional): If set, returns the temperature in celsius. Otherwise, by default, returns in Farenheit.\n",
        "\"\"\"\n",
        "\n",
        "User Query: {query}<human_end>\n",
        "\n",
        "'''\n",
        "\n",
        "QUESTION = \"Hey, what's the weather like in New York right now?\"\n",
        "\n",
        "raven_question = RAVEN_PROMPT.format(query=QUESTION)\n",
        "print (query_raven(raven_question))\n"
      ],
      "metadata": {
        "colab": {
          "base_uri": "https://localhost:8080/"
        },
        "id": "4uTKSGK97QLH",
        "outputId": "a78c9824-d479-4b46-e8aa-12a4e033f67f"
      },
      "execution_count": null,
      "outputs": [
        {
          "output_type": "stream",
          "name": "stdout",
          "text": [
            "getWeather(city_name='New York')\n"
          ]
        }
      ]
    },
    {
      "cell_type": "markdown",
      "source": [
        "Notice how the optional argument is NOT used. But, let's change the prompt a bit."
      ],
      "metadata": {
        "id": "0VNTea_v8eK9"
      }
    },
    {
      "cell_type": "code",
      "source": [
        "QUESTION = \"Respond in SI units and tell me what's the conditions like in Seattle right now?\"\n",
        "raven_question = RAVEN_PROMPT.format(query=QUESTION)\n",
        "print (query_raven(raven_question))"
      ],
      "metadata": {
        "colab": {
          "base_uri": "https://localhost:8080/"
        },
        "id": "K_AGzcYI8ceD",
        "outputId": "e9e81e4d-18c1-41d7-f2a5-4dfd8214d2e5"
      },
      "execution_count": null,
      "outputs": [
        {
          "output_type": "stream",
          "name": "stdout",
          "text": [
            "getWeather(city_name='Seattle', use_celsius=True)\n"
          ]
        }
      ]
    },
    {
      "cell_type": "markdown",
      "source": [
        "Notice how the optional argument is now used!"
      ],
      "metadata": {
        "id": "xQcrps1w9Jvp"
      }
    },
    {
      "cell_type": "markdown",
      "source": [
        "### Explanability\n",
        "\n",
        "Raven is also capable of giving well reasoned explanations on *why* these function calls were issued. To save on inference speed, we set a stop criteria of `<bot_end>` to prevent Raven from issuing the explanation. But if required, we can set the stop criteria to </s> to fully capitalize on Raven's ability to reason to provide justifications for the calls."
      ],
      "metadata": {
        "id": "m2g-zm-OAb5s"
      }
    },
    {
      "cell_type": "code",
      "source": [
        "RAVEN_PROMPT = \\\n",
        "'''\n",
        "Function:\n",
        "def getWeather(city_name : str, use_celsius : bool = False):\n",
        "\"\"\"\n",
        "Gets weather for a specific city, and other associated attributes.\n",
        "\n",
        "Args:\n",
        "- city_name: The name of the city as a string.\n",
        "- use_celsius (Optional): If set, returns the temperature in celsius. Otherwise, by default, returns in Farenheit.\n",
        "\"\"\"\n",
        "\n",
        "User Query: {query}<human_end>\n",
        "\n",
        "'''\n",
        "\n",
        "QUESTION = \"Respond in SI units and tell me what's the conditions like in Seattle right now?\"\n",
        "raven_question = RAVEN_PROMPT.format(query=QUESTION)\n",
        "print (query_raven_with_reasoning(raven_question))"
      ],
      "metadata": {
        "id": "7wb-AckcAC5e",
        "colab": {
          "base_uri": "https://localhost:8080/"
        },
        "outputId": "c1b8bf32-8a5d-462c-b1c1-c15774fae3f2"
      },
      "execution_count": null,
      "outputs": [
        {
          "output_type": "stream",
          "name": "stdout",
          "text": [
            "getWeather(city_name='Seattle', use_celsius=True) \n",
            "Thought: The function call `getWeather(city_name='Seattle', use_celsius=True)` answers the question \"What's the conditions like in Seattle right now?\" because it retrieves the weather data for the city of Seattle and returns it in SI units (celsius).\n",
            "\n",
            "Here's why:\n",
            "\n",
            "1. The `city_name` parameter is set to `'Seattle'`, which specifies the city for which the weather data should be retrieved.\n",
            "2. The `use_celsius` parameter is set to `True`, which tells the function to return the temperature in celsius instead of farenheit.\n",
            "3. The function call `getWeather(city_name='Seattle', use_celsius=True)` retrieves the weather data for the city of Seattle and returns it in celsius.\n",
            "\n",
            "Therefore, the function call `getWeather(city_name='Seattle', use_celsius=True)` answers the question \"What's the conditions like in Seattle right now?\" by retrieving the weather data for the city of Seattle and returning it in SI units (celsius).\n"
          ]
        }
      ]
    }
  ]
}
